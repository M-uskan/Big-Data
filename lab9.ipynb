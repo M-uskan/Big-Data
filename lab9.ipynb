{
 "cells": [
  {
   "cell_type": "code",
   "execution_count": 1,
   "id": "e5b464f6-fe2a-48c8-a132-7217ac27467d",
   "metadata": {},
   "outputs": [
    {
     "name": "stdout",
     "output_type": "stream",
     "text": [
      "The Data Set has 2 parts\n",
      "Data.csv\n",
      "    Shape:  (801, 20532)\n",
      "    Columns:  Index(['Unnamed: 0', 'gene_0', 'gene_1', 'gene_2', 'gene_3', 'gene_4',\n",
      "       'gene_5', 'gene_6', 'gene_7', 'gene_8',\n",
      "       ...\n",
      "       'gene_20521', 'gene_20522', 'gene_20523', 'gene_20524', 'gene_20525',\n",
      "       'gene_20526', 'gene_20527', 'gene_20528', 'gene_20529', 'gene_20530'],\n",
      "      dtype='object', length=20532)\n",
      "Label.csv\n",
      "    Shape:  (801, 2)\n",
      "    Columns:  Index(['Unnamed: 0', 'Class'], dtype='object')\n",
      "Identified 0 key genes.\n",
      "Key Genes: []\n"
     ]
    }
   ],
   "source": [
    "import pandas as pd\n",
    "import numpy as np\n",
    "import random\n",
    "from sklearn.preprocessing import MinMaxScaler\n",
    "from pyclustering.cluster.clique import clique\n",
    "from pyclustering.cluster.clique import clique_visualizer\n",
    "\n",
    "# Load datasets\n",
    "data_df = pd.read_csv('/Users/muskan/deeplearning/bda/datadna.csv')\n",
    "label_df = pd.read_csv('/Users/muskan/deeplearning/bda/labels.csv')\n",
    "\n",
    "print(\"The Data Set has 2 parts\")\n",
    "print(\"Data.csv\")\n",
    "print(\"    Shape: \", data_df.shape)\n",
    "print(\"    Columns: \", data_df.columns)\n",
    "print(\"Label.csv\")\n",
    "print(\"    Shape: \", label_df.shape)\n",
    "print(\"    Columns: \", label_df.columns)\n",
    "\n",
    "# Drop unwanted column if exists\n",
    "if 'Unnamed: 0' in data_df.columns:\n",
    "    data_df = data_df.drop(columns=['Unnamed: 0'])\n",
    "if 'Unnamed: 0' in label_df.columns:\n",
    "    label_df = label_df.drop(columns=['Unnamed: 0'])\n",
    "\n",
    "# Normalize the data for CLIQUE\n",
    "scaler = MinMaxScaler()\n",
    "data_normalized = scaler.fit_transform(data_df)\n",
    "\n",
    "# Parameters\n",
    "num_iterations = 50  # number of random 2D projections\n",
    "n_genes = data_df.shape[1]\n",
    "gene_indices = list(range(n_genes))\n",
    "genes_in_clusters_across_dims = []\n",
    "\n",
    "# Run CLIQUE for multiple 2D projections\n",
    "for _ in range(num_iterations):\n",
    "    gene_pair = random.sample(gene_indices, 2)\n",
    "    data_2d = data_normalized[:, gene_pair]\n",
    "\n",
    "    # CLIQUE parameters: (data, number of intervals per dimension, density threshold)\n",
    "    clique_instance = clique(data_2d.tolist(), 10, 2, ccore=False)\n",
    "    clique_instance.process()\n",
    "    clusters = clique_instance.get_clusters()\n",
    "\n",
    "    # Store genes if any cluster is valid\n",
    "    if any(len(cluster) > 1 for cluster in clusters):\n",
    "        genes_in_clusters_across_dims.append(set(gene_pair))\n",
    "\n",
    "# Find key genes across dimensions\n",
    "if genes_in_clusters_across_dims:\n",
    "    key_genes_indices = set.intersection(*genes_in_clusters_across_dims)\n",
    "    key_genes = [data_df.columns[i] for i in key_genes_indices]\n",
    "    print(f\"Identified {len(key_genes)} key genes.\")\n",
    "    print(\"Key Genes:\", key_genes)\n",
    "\n",
    "    # Save key genes to CSV\n",
    "    pd.Series(key_genes).to_csv(\"/Users/muskan/deeplearning/bda/key_genes.csv\", index=False)\n",
    "else:\n",
    "    print(\"No overlapping genes found across dimensions.\")"
   ]
  },
  {
   "cell_type": "code",
   "execution_count": null,
   "id": "ed328790-ae85-4771-8467-7ad8cc8a78d5",
   "metadata": {},
   "outputs": [],
   "source": []
  }
 ],
 "metadata": {
  "kernelspec": {
   "display_name": "Python 3 (ipykernel)",
   "language": "python",
   "name": "python3"
  },
  "language_info": {
   "codemirror_mode": {
    "name": "ipython",
    "version": 3
   },
   "file_extension": ".py",
   "mimetype": "text/x-python",
   "name": "python",
   "nbconvert_exporter": "python",
   "pygments_lexer": "ipython3",
   "version": "3.11.2"
  }
 },
 "nbformat": 4,
 "nbformat_minor": 5
}
